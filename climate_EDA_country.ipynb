{
 "cells": [
  {
   "cell_type": "markdown",
   "metadata": {},
   "source": [
    "### 정합성평가"
   ]
  },
  {
   "cell_type": "code",
   "execution_count": 2,
   "metadata": {},
   "outputs": [],
   "source": [
    "import pandas as pd\n",
    "import numpy as np"
   ]
  },
  {
   "cell_type": "code",
   "execution_count": 3,
   "metadata": {},
   "outputs": [],
   "source": [
    "#### country_32\n",
    "country_32= ['ARGENTINA',\n",
    " 'AUSTRALIA',\n",
    " 'AUSTRIA',\n",
    " 'BELGIUM',\n",
    " 'BULGARIA',\n",
    " 'BRAZIL',\n",
    " 'CZECH REPUBLIC',\n",
    " 'SWITZERLAND',\n",
    " 'CHILE',\n",
    " 'CROATIA',\n",
    " 'CYPRUS',\n",
    " 'GERMANY',\n",
    " 'SPAIN',\n",
    " 'FRANCE',\n",
    " 'GEORGIA',\n",
    " 'GREECE',\n",
    " 'HUNGARY',\n",
    " 'ITALY',\n",
    " 'JAPAN',\n",
    " 'LUXEMBOURG',\n",
    " 'MOROCCO',\n",
    " 'MOLDOVA',\n",
    " 'NEW ZEALAND',\n",
    " 'PERU',\n",
    " 'PORTUGAL',\n",
    " 'ROMANIA',\n",
    " 'SERBIA',\n",
    " 'SLOVAKIA',\n",
    " 'SLOVENIA',\n",
    " 'TURKEY',\n",
    " 'URUGUAY',\n",
    " 'SOUTH AFRICA']"
   ]
  },
  {
   "cell_type": "code",
   "execution_count": 4,
   "metadata": {},
   "outputs": [],
   "source": [
    "country_32sm = []\n",
    "for name in country_32:\n",
    "    country_32sm.append(name.lower())"
   ]
  },
  {
   "cell_type": "code",
   "execution_count": 5,
   "metadata": {},
   "outputs": [
    {
     "data": {
      "text/plain": [
       "['argentina',\n",
       " 'australia',\n",
       " 'austria',\n",
       " 'belgium',\n",
       " 'bulgaria',\n",
       " 'brazil',\n",
       " 'czech republic',\n",
       " 'switzerland',\n",
       " 'chile',\n",
       " 'croatia',\n",
       " 'cyprus',\n",
       " 'germany',\n",
       " 'spain',\n",
       " 'france',\n",
       " 'georgia',\n",
       " 'greece',\n",
       " 'hungary',\n",
       " 'italy',\n",
       " 'japan',\n",
       " 'luxembourg',\n",
       " 'morocco',\n",
       " 'moldova',\n",
       " 'new zealand',\n",
       " 'peru',\n",
       " 'portugal',\n",
       " 'romania',\n",
       " 'serbia',\n",
       " 'slovakia',\n",
       " 'slovenia',\n",
       " 'turkey',\n",
       " 'uruguay',\n",
       " 'south africa']"
      ]
     },
     "execution_count": 5,
     "metadata": {},
     "output_type": "execute_result"
    }
   ],
   "source": [
    "country_32sm"
   ]
  },
  {
   "cell_type": "markdown",
   "metadata": {},
   "source": [
    "### 각 나라별 데이터 (국가명)_df 변수로 저장"
   ]
  },
  {
   "cell_type": "code",
   "execution_count": 6,
   "metadata": {},
   "outputs": [
    {
     "name": "stdout",
     "output_type": "stream",
     "text": [
      "argentina_df 파일이 성공적으로 로드되었습니다.\n",
      "australia_df 파일이 성공적으로 로드되었습니다.\n",
      "austria_df 파일이 성공적으로 로드되었습니다.\n",
      "belgium_df 파일이 성공적으로 로드되었습니다.\n",
      "brazil_df 파일이 성공적으로 로드되었습니다.\n",
      "bulgaria_df 파일이 성공적으로 로드되었습니다.\n",
      "chile_df 파일이 성공적으로 로드되었습니다.\n",
      "croatia_df 파일이 성공적으로 로드되었습니다.\n",
      "cyprus_df 파일이 성공적으로 로드되었습니다.\n",
      "czech_republic_df 파일이 성공적으로 로드되었습니다.\n",
      "france_df 파일이 성공적으로 로드되었습니다.\n",
      "georgia_df 파일이 성공적으로 로드되었습니다.\n",
      "germany_df 파일이 성공적으로 로드되었습니다.\n",
      "greece_df 파일이 성공적으로 로드되었습니다.\n",
      "hungary_df 파일이 성공적으로 로드되었습니다.\n",
      "italy_df 파일이 성공적으로 로드되었습니다.\n",
      "japan_df 파일이 성공적으로 로드되었습니다.\n",
      "luxembourg_df 파일이 성공적으로 로드되었습니다.\n",
      "moldova_df 파일이 성공적으로 로드되었습니다.\n",
      "morocco_df 파일이 성공적으로 로드되었습니다.\n",
      "new_zealand_df 파일이 성공적으로 로드되었습니다.\n",
      "peru_df 파일이 성공적으로 로드되었습니다.\n",
      "portugal_df 파일이 성공적으로 로드되었습니다.\n",
      "romania_df 파일이 성공적으로 로드되었습니다.\n",
      "serbia_df 파일이 성공적으로 로드되었습니다.\n",
      "slovakia_df 파일이 성공적으로 로드되었습니다.\n",
      "slovenia_df 파일이 성공적으로 로드되었습니다.\n",
      "south_africa_df 파일이 성공적으로 로드되었습니다.\n",
      "spain_df 파일이 성공적으로 로드되었습니다.\n",
      "switzerland_df 파일이 성공적으로 로드되었습니다.\n",
      "turkey_df 파일이 성공적으로 로드되었습니다.\n",
      "uruguay_df 파일이 성공적으로 로드되었습니다.\n"
     ]
    }
   ],
   "source": [
    "import os\n",
    "import pandas as pd\n",
    "\n",
    "# 파일들이 위치한 디렉토리 경로\n",
    "directory_path = 'C:/Users/roha2/OneDrive/문서/ds_study/git_ws/ML_project/ML_wine/country_32_md/'\n",
    "\n",
    "# 디렉토리 내의 모든 파일 목록 가져오기\n",
    "file_list = os.listdir(directory_path)\n",
    "\n",
    "# 각 파일에 대해 반복문 실행\n",
    "for file_name in file_list:\n",
    "    if file_name.endswith('.csv'):  # CSV 파일만 처리\n",
    "        country_name = os.path.splitext(file_name)[0].replace(' ', '_').lower()  # 파일명에서 확장자 제거 및 형식 변경\n",
    "        file_path = os.path.join(directory_path, file_name)  # 전체 파일 경로 생성\n",
    "        globals()[f\"{country_name}_df\"] = pd.read_csv(file_path)  # 데이터프레임으로 읽어서 동적 변수 생성\n",
    "        print(f\"{country_name}_df 파일이 성공적으로 로드되었습니다.\")"
   ]
  },
  {
   "cell_type": "code",
   "execution_count": 7,
   "metadata": {},
   "outputs": [],
   "source": [
    "valid_num = {}"
   ]
  },
  {
   "cell_type": "markdown",
   "metadata": {},
   "source": [
    "#### argentina\n",
    "- 우선 데이터프레임 컬럼 타입 변경\n",
    "- 피봇테이블로 변경해서 staion별 date (월별) 정리\n",
    "- has_all_month 에서 모든 12개월의 데이터가 있는 station 출력\n",
    "- 마지막에 개수 출력"
   ]
  },
  {
   "cell_type": "code",
   "execution_count": 8,
   "metadata": {},
   "outputs": [
    {
     "name": "stdout",
     "output_type": "stream",
     "text": [
      "STATION\n",
      "AR000087007    True\n",
      "AR000087129    True\n",
      "AR000087374    True\n",
      "AR000875850    True\n",
      "ARM00087244    True\n",
      "ARM00087345    True\n",
      "ARM00087416    True\n",
      "ARM00087448    True\n",
      "ARM00087467    True\n",
      "ARM00087506    True\n",
      "ARM00087509    True\n",
      "ARM00087548    True\n",
      "ARM00087640    True\n",
      "dtype: bool 개수 : 13\n"
     ]
    }
   ],
   "source": [
    "argentina_df['DATE'] = pd.to_datetime(argentina_df['DATE'], format='%Y-%m')\n",
    "import datetime as dt\n",
    "pv_table = argentina_df.pivot_table(index = 'STATION', columns = argentina_df['DATE'].dt.to_period('M'), values='NAME', aggfunc='count', fill_value=0)\n",
    "\n",
    "has_all_months = pv_table.apply(lambda row: all(row >= 1), axis=1)\n",
    "print(has_all_months[has_all_months == True], f'개수 : {len(has_all_months[has_all_months == True])}' )\n",
    "\n",
    "valid_num['argentina'] = len(has_all_months[has_all_months == True])"
   ]
  },
  {
   "cell_type": "markdown",
   "metadata": {},
   "source": [
    "#### australia\n",
    "- australia의 경우 12개월을 모두 가지고 있는 station이 2714개"
   ]
  },
  {
   "cell_type": "code",
   "execution_count": 9,
   "metadata": {},
   "outputs": [
    {
     "name": "stdout",
     "output_type": "stream",
     "text": [
      "STATION\n",
      "ASN00001010    True\n",
      "ASN00001014    True\n",
      "ASN00001020    True\n",
      "ASN00001023    True\n",
      "ASN00001024    True\n",
      "               ... \n",
      "ASN00109501    True\n",
      "ASN00109505    True\n",
      "ASN00109508    True\n",
      "ASN00109509    True\n",
      "ASN00123700    True\n",
      "Length: 2714, dtype: bool 개수 : 2714\n"
     ]
    }
   ],
   "source": [
    "australia_df['DATE'] = pd.to_datetime(australia_df['DATE'], format='%Y-%m')\n",
    "import datetime as dt\n",
    "pv_table = australia_df.pivot_table(index = 'STATION', columns = australia_df['DATE'].dt.to_period('M'), values='NAME', aggfunc='count', fill_value=0)\n",
    "\n",
    "has_all_months = pv_table.apply(lambda row: all(row >= 1), axis=1)\n",
    "print(has_all_months[has_all_months == True], f'개수 : {len(has_all_months[has_all_months == True])}' )\n",
    "valid_num['australia'] = len(has_all_months[has_all_months == True])"
   ]
  },
  {
   "cell_type": "markdown",
   "metadata": {},
   "source": [
    "#### austria\n",
    "- 유효한 station: 2개(실질적 사용 불가)"
   ]
  },
  {
   "cell_type": "code",
   "execution_count": 10,
   "metadata": {},
   "outputs": [
    {
     "name": "stdout",
     "output_type": "stream",
     "text": [
      "STATION\n",
      "AU000005010    True\n",
      "AU000005901    True\n",
      "dtype: bool 개수 : 2\n"
     ]
    }
   ],
   "source": [
    "austria_df['DATE'] = pd.to_datetime(austria_df['DATE'], format='%Y-%m')\n",
    "import datetime as dt\n",
    "pv_table = austria_df.pivot_table(index = 'STATION', columns = austria_df['DATE'].dt.to_period('M'), values='NAME', aggfunc='count', fill_value=0)\n",
    "\n",
    "has_all_months = pv_table.apply(lambda row: all(row >= 1), axis=1)\n",
    "print(has_all_months[has_all_months == True], f'개수 : {len(has_all_months[has_all_months == True])}' )\n",
    "valid_num['austria'] = len(has_all_months[has_all_months == True])"
   ]
  },
  {
   "cell_type": "markdown",
   "metadata": {},
   "source": [
    "#### belgium\n",
    "- 1개 (실질적 사용 불가)"
   ]
  },
  {
   "cell_type": "code",
   "execution_count": 11,
   "metadata": {},
   "outputs": [
    {
     "name": "stdout",
     "output_type": "stream",
     "text": [
      "<class 'pandas.core.frame.DataFrame'>\n",
      "RangeIndex: 24 entries, 0 to 23\n",
      "Data columns (total 19 columns):\n",
      " #   Column           Non-Null Count  Dtype  \n",
      "---  ------           --------------  -----  \n",
      " 0   Unnamed: 0       24 non-null     int64  \n",
      " 1   STATION          24 non-null     object \n",
      " 2   DATE             24 non-null     object \n",
      " 3   LATITUDE         24 non-null     float64\n",
      " 4   LONGITUDE        24 non-null     float64\n",
      " 5   ELEVATION        24 non-null     float64\n",
      " 6   NAME             24 non-null     object \n",
      " 7   DP01             24 non-null     float64\n",
      " 8   DP01_ATTRIBUTES  24 non-null     object \n",
      " 9   DP10             24 non-null     float64\n",
      " 10  DP10_ATTRIBUTES  24 non-null     object \n",
      " 11  DP1X             24 non-null     float64\n",
      " 12  DP1X_ATTRIBUTES  24 non-null     object \n",
      " 13  DYXP             24 non-null     float64\n",
      " 14  DYXP_ATTRIBUTES  24 non-null     object \n",
      " 15  EMXP             24 non-null     float64\n",
      " 16  EMXP_ATTRIBUTES  24 non-null     object \n",
      " 17  PRCP             24 non-null     float64\n",
      " 18  PRCP_ATTRIBUTES  24 non-null     object \n",
      "dtypes: float64(9), int64(1), object(9)\n",
      "memory usage: 3.7+ KB\n"
     ]
    }
   ],
   "source": [
    "belgium_df.info()"
   ]
  },
  {
   "cell_type": "code",
   "execution_count": 12,
   "metadata": {},
   "outputs": [
    {
     "name": "stdout",
     "output_type": "stream",
     "text": [
      "STATION\n",
      "BE000006447    True\n",
      "dtype: bool 개수 : 1\n"
     ]
    }
   ],
   "source": [
    "belgium_df['DATE'] = pd.to_datetime(belgium_df['DATE'], format='%Y-%m')\n",
    "import datetime as dt\n",
    "pv_table = belgium_df.pivot_table(index = 'STATION', columns = belgium_df['DATE'].dt.to_period('M'), values='NAME', aggfunc='count', fill_value=0)\n",
    "\n",
    "has_all_months = pv_table.apply(lambda row: all(row >= 1), axis=1)\n",
    "print(has_all_months[has_all_months == True], f'개수 : {len(has_all_months[has_all_months == True])}' )\n",
    "valid_num['belgium'] = len(has_all_months[has_all_months ==True])"
   ]
  },
  {
   "cell_type": "markdown",
   "metadata": {},
   "source": [
    "#### brazil\n",
    "- 0개 (사용 불가)"
   ]
  },
  {
   "cell_type": "code",
   "execution_count": 13,
   "metadata": {},
   "outputs": [
    {
     "name": "stdout",
     "output_type": "stream",
     "text": [
      "Series([], dtype: bool) 개수 : 0\n"
     ]
    }
   ],
   "source": [
    "brazil_df['DATE'] = pd.to_datetime(brazil_df['DATE'], format='%Y-%m')\n",
    "import datetime as dt\n",
    "pv_table = brazil_df.pivot_table(index = 'STATION', columns = brazil_df['DATE'].dt.to_period('M'), values='NAME', aggfunc='count', fill_value=0)\n",
    "\n",
    "has_all_months = pv_table.apply(lambda row: all(row >= 1), axis=1)\n",
    "print(has_all_months[has_all_months == True], f'개수 : {len(has_all_months[has_all_months == True])}' )\n",
    "\n",
    "valid_num['brazil'] = len(has_all_months[has_all_months == True])"
   ]
  },
  {
   "cell_type": "markdown",
   "metadata": {},
   "source": [
    "#### bulgaria"
   ]
  },
  {
   "cell_type": "code",
   "execution_count": 14,
   "metadata": {},
   "outputs": [
    {
     "name": "stdout",
     "output_type": "stream",
     "text": [
      "STATION\n",
      "BUM00015502    True\n",
      "BUM00015552    True\n",
      "BUM00015614    True\n",
      "BUM00015730    True\n",
      "dtype: bool 개수 : 4\n"
     ]
    }
   ],
   "source": [
    "bulgaria_df['DATE'] = pd.to_datetime(bulgaria_df['DATE'], format='%Y-%m')\n",
    "import datetime as dt\n",
    "pv_table = bulgaria_df.pivot_table(index = 'STATION', columns = bulgaria_df['DATE'].dt.to_period('M'), values='NAME', aggfunc='count', fill_value=0)\n",
    "\n",
    "has_all_months = pv_table.apply(lambda row: all(row >= 1), axis=1)\n",
    "print(has_all_months[has_all_months == True], f'개수 : {len(has_all_months[has_all_months == True])}' )\n",
    "valid_num['bulgaria'] = len(has_all_months[has_all_months == True])"
   ]
  },
  {
   "cell_type": "markdown",
   "metadata": {},
   "source": [
    "#### chile\n",
    "- 완전히 채워진 데이터는 없지만 띄엄띄엄 채워져있음\n",
    "- 어느정도 Nan값 허용해야할듯"
   ]
  },
  {
   "cell_type": "code",
   "execution_count": 15,
   "metadata": {},
   "outputs": [
    {
     "name": "stdout",
     "output_type": "stream",
     "text": [
      "Series([], dtype: bool) 개수 : 0\n"
     ]
    }
   ],
   "source": [
    "chile_df['DATE'] = pd.to_datetime(chile_df['DATE'], format='%Y-%m')\n",
    "import datetime as dt\n",
    "pv_table = chile_df.pivot_table(index = 'STATION', columns = chile_df['DATE'].dt.to_period('M'), values='NAME', aggfunc='count', fill_value=0)\n",
    "\n",
    "has_all_months = pv_table.apply(lambda row: all(row >= 1), axis=1)\n",
    "print(has_all_months[has_all_months == True], f'개수 : {len(has_all_months[has_all_months == True])}' )\n",
    "valid_num['chile'] = len(has_all_months[has_all_months == True])"
   ]
  },
  {
   "cell_type": "markdown",
   "metadata": {},
   "source": [
    "#### croatia"
   ]
  },
  {
   "cell_type": "code",
   "execution_count": 16,
   "metadata": {},
   "outputs": [
    {
     "name": "stdout",
     "output_type": "stream",
     "text": [
      "STATION\n",
      "HR000142360    True\n",
      "HRE00105217    True\n",
      "dtype: bool 개수 : 2\n"
     ]
    }
   ],
   "source": [
    "croatia_df['DATE'] = pd.to_datetime(croatia_df['DATE'], format='%Y-%m')\n",
    "import datetime as dt\n",
    "pv_table = croatia_df.pivot_table(index = 'STATION', columns = croatia_df['DATE'].dt.to_period('M'), values='NAME', aggfunc='count', fill_value=0)\n",
    "\n",
    "has_all_months = pv_table.apply(lambda row: all(row >= 1), axis=1)\n",
    "print(has_all_months[has_all_months == True], f'개수 : {len(has_all_months[has_all_months == True])}' )\n",
    "valid_num['croatia'] = len(has_all_months[has_all_months == True])"
   ]
  },
  {
   "cell_type": "markdown",
   "metadata": {},
   "source": [
    "#### cyptrus"
   ]
  },
  {
   "cell_type": "code",
   "execution_count": 17,
   "metadata": {},
   "outputs": [
    {
     "name": "stdout",
     "output_type": "stream",
     "text": [
      "STATION\n",
      "CY000176090    True\n",
      "dtype: bool 개수 : 1\n"
     ]
    }
   ],
   "source": [
    "cyprus_df['DATE'] = pd.to_datetime(cyprus_df['DATE'], format='%Y-%m')\n",
    "\n",
    "pv_table = cyprus_df.pivot_table(index = 'STATION', columns = cyprus_df['DATE'].dt.to_period('M'), values='NAME', aggfunc='count', fill_value=0)\n",
    "\n",
    "has_all_months = pv_table.apply(lambda row: all(row >= 1), axis=1)\n",
    "print(has_all_months[has_all_months == True], f'개수 : {len(has_all_months[has_all_months == True])}' )\n",
    "valid_num['cyprus'] = len(has_all_months[has_all_months == True])"
   ]
  },
  {
   "cell_type": "markdown",
   "metadata": {},
   "source": [
    "---"
   ]
  },
  {
   "cell_type": "code",
   "execution_count": 18,
   "metadata": {},
   "outputs": [
    {
     "name": "stdout",
     "output_type": "stream",
     "text": [
      "czech_republic: 유효한 스테이션 개수: 3\n",
      "france: 유효한 스테이션 개수: 60\n",
      "georgia: 유효한 스테이션 개수: 1\n",
      "germany: 유효한 스테이션 개수: 524\n",
      "greece: 유효한 스테이션 개수: 6\n",
      "hungary: 유효한 스테이션 개수: 2\n",
      "italy: 유효한 스테이션 개수: 2\n",
      "japan: 유효한 스테이션 개수: 0\n",
      "luxembourg: 유효한 스테이션 개수: 1\n",
      "moldova: 유효한 스테이션 개수: 1\n",
      "morocco: 유효한 스테이션 개수: 5\n",
      "new_zealand: 유효한 스테이션 개수: 9\n",
      "peru: 유효한 스테이션 개수: 0\n",
      "portugal: 유효한 스테이션 개수: 0\n",
      "romania: 유효한 스테이션 개수: 29\n",
      "serbia: 유효한 스테이션 개수: 3\n",
      "slovakia: 유효한 스테이션 개수: 3\n",
      "slovenkia: 유효한 스테이션 개수: 18\n",
      "slovenia: 유효한 스테이션 개수: 18\n",
      "south_africa: 유효한 스테이션 개수: 11\n",
      "spain: 유효한 스테이션 개수: 165\n",
      "switzerland: 유효한 스테이션 개수: 8\n",
      "turkey: 유효한 스테이션 개수: 2\n",
      "uruguay: 유효한 스테이션 개수: 0\n",
      "\n",
      "국가별 유효한 스테이션 개수:\n",
      "argentina: 13\n",
      "australia: 2714\n",
      "austria: 2\n",
      "belgium: 1\n",
      "brazil: 0\n",
      "bulgaria: 4\n",
      "chile: 0\n",
      "croatia: 2\n",
      "cyprus: 1\n",
      "czech_republic: 3\n",
      "france: 60\n",
      "georgia: 1\n",
      "germany: 524\n",
      "greece: 6\n",
      "hungary: 2\n",
      "italy: 2\n",
      "japan: 0\n",
      "luxembourg: 1\n",
      "moldova: 1\n",
      "morocco: 5\n",
      "new_zealand: 9\n",
      "peru: 0\n",
      "portugal: 0\n",
      "romania: 29\n",
      "serbia: 3\n",
      "slovakia: 3\n",
      "slovenkia: 18\n",
      "slovenia: 18\n",
      "south_africa: 11\n",
      "spain: 165\n",
      "switzerland: 8\n",
      "turkey: 2\n",
      "uruguay: 0\n"
     ]
    }
   ],
   "source": [
    "\n",
    "# 이미 메모리에 로드된 데이터프레임 리스트\n",
    "dataframes = {\n",
    "\n",
    "    'czech_republic': czech_republic_df,\n",
    "    'france': france_df,\n",
    "    'georgia': georgia_df,\n",
    "    'germany': germany_df,\n",
    "    'greece': greece_df,\n",
    "    'hungary': hungary_df,\n",
    "    'italy': italy_df,\n",
    "    'japan': japan_df,\n",
    "    'luxembourg': luxembourg_df,\n",
    "    'moldova': moldova_df,\n",
    "    'morocco': morocco_df,\n",
    "    'new_zealand': new_zealand_df,\n",
    "    'peru': peru_df,\n",
    "    'portugal' : portugal_df,\n",
    "    'romania' : romania_df,\n",
    "    'serbia' : serbia_df,\n",
    "    'slovakia' : slovakia_df,\n",
    "    'slovenkia' : slovenia_df,\n",
    "    'slovenia' : slovenia_df,\n",
    "    'south_africa' : south_africa_df,\n",
    "    'spain' : spain_df,\n",
    "    'switzerland' : switzerland_df,\n",
    "    'turkey' : turkey_df,\n",
    "    'uruguay' : uruguay_df\n",
    "    # 나머지 데이터프레임들도 여기에 추가\n",
    "}\n",
    "\n",
    "for country_name, df in dataframes.items():\n",
    "    # DATE 컬럼을 datetime 타입으로 변환\n",
    "    df['DATE'] = pd.to_datetime(df['DATE'], format='%Y-%m')\n",
    "\n",
    "    # 피봇 테이블 생성: 스테이션과 년도-월별 데이터 존재 여부 확인\n",
    "    pv_table = df.pivot_table(index='STATION', columns=df['DATE'].dt.to_period('M'), values='NAME', aggfunc='count', fill_value=0)\n",
    "\n",
    "    # 12개월이 온전히 들어있는지 확인\n",
    "    has_all_months = pv_table.apply(lambda row: all(row >= 1), axis=1)\n",
    "    \n",
    "    # 결과 출력 및 저장\n",
    "    valid_stations = has_all_months[has_all_months == True]\n",
    "    print(f\"{country_name}: 유효한 스테이션 개수: {len(valid_stations)}\")\n",
    "    valid_num[country_name] = len(valid_stations)\n",
    "\n",
    "# 최종 결과 출력\n",
    "print(\"\\n국가별 유효한 스테이션 개수:\")\n",
    "for country, count in valid_num.items():\n",
    "    print(f\"{country}: {count}\")"
   ]
  },
  {
   "cell_type": "code",
   "execution_count": 19,
   "metadata": {},
   "outputs": [
    {
     "data": {
      "text/plain": [
       "{'argentina': 13,\n",
       " 'australia': 2714,\n",
       " 'austria': 2,\n",
       " 'belgium': 1,\n",
       " 'brazil': 0,\n",
       " 'bulgaria': 4,\n",
       " 'chile': 0,\n",
       " 'croatia': 2,\n",
       " 'cyprus': 1,\n",
       " 'czech_republic': 3,\n",
       " 'france': 60,\n",
       " 'georgia': 1,\n",
       " 'germany': 524,\n",
       " 'greece': 6,\n",
       " 'hungary': 2,\n",
       " 'italy': 2,\n",
       " 'japan': 0,\n",
       " 'luxembourg': 1,\n",
       " 'moldova': 1,\n",
       " 'morocco': 5,\n",
       " 'new_zealand': 9,\n",
       " 'peru': 0,\n",
       " 'portugal': 0,\n",
       " 'romania': 29,\n",
       " 'serbia': 3,\n",
       " 'slovakia': 3,\n",
       " 'slovenkia': 18,\n",
       " 'slovenia': 18,\n",
       " 'south_africa': 11,\n",
       " 'spain': 165,\n",
       " 'switzerland': 8,\n",
       " 'turkey': 2,\n",
       " 'uruguay': 0}"
      ]
     },
     "execution_count": 19,
     "metadata": {},
     "output_type": "execute_result"
    }
   ],
   "source": [
    "valid_num"
   ]
  },
  {
   "cell_type": "code",
   "execution_count": null,
   "metadata": {},
   "outputs": [],
   "source": []
  },
  {
   "cell_type": "code",
   "execution_count": null,
   "metadata": {},
   "outputs": [],
   "source": []
  }
 ],
 "metadata": {
  "kernelspec": {
   "display_name": "Python 3",
   "language": "python",
   "name": "python3"
  },
  "language_info": {
   "codemirror_mode": {
    "name": "ipython",
    "version": 3
   },
   "file_extension": ".py",
   "mimetype": "text/x-python",
   "name": "python",
   "nbconvert_exporter": "python",
   "pygments_lexer": "ipython3",
   "version": "3.9.6"
  }
 },
 "nbformat": 4,
 "nbformat_minor": 2
}
